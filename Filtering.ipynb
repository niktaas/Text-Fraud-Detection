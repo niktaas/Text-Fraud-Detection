{
  "nbformat": 4,
  "nbformat_minor": 0,
  "metadata": {
    "colab": {
      "name": "Filtering.ipynb",
      "provenance": [],
      "collapsed_sections": []
    },
    "kernelspec": {
      "name": "python3",
      "display_name": "Python 3"
    },
    "language_info": {
      "name": "python"
    }
  },
  "cells": [
    {
      "cell_type": "code",
      "execution_count": null,
      "metadata": {
        "colab": {
          "base_uri": "https://localhost:8080/"
        },
        "id": "LQYwGLc4LpNb",
        "outputId": "76c545b7-9d02-4e4c-83fd-1dcd9d3079dd"
      },
      "outputs": [
        {
          "output_type": "stream",
          "name": "stdout",
          "text": [
            "Drive already mounted at /content/drive; to attempt to forcibly remount, call drive.mount(\"/content/drive\", force_remount=True).\n"
          ]
        }
      ],
      "source": [
        "from google.colab import drive\n",
        "drive.mount('/content/drive')"
      ]
    },
    {
      "cell_type": "code",
      "source": [
        "import json\n",
        "import os.path  "
      ],
      "metadata": {
        "id": "cC2WsL2ZOd6d"
      },
      "execution_count": null,
      "outputs": []
    },
    {
      "cell_type": "code",
      "source": [
        "path = '/content/drive/My Drive/Colab Notebooks/Nikta/Filtering/swear.json'"
      ],
      "metadata": {
        "id": "9Fy-ZetrOqdM"
      },
      "execution_count": null,
      "outputs": []
    },
    {
      "cell_type": "code",
      "source": [
        "class PersianSwear(object):\n",
        "  def __init__(self):\n",
        "\t  self.data = json.load(open(path))\n",
        "\n",
        "\t# return string\n",
        "  def filter_words(self, text, symbol=\"*\"):\n",
        "    if(self.is_empty()):\n",
        "      return text\n",
        "\n",
        "    text = text.split()\n",
        "    for i in range(len(text)):\n",
        "      if text[i] in self.data['word']:\n",
        "        text[i] = symbol\n",
        "    return \" \".join(text)\n",
        "\n",
        "\t# return boolean\n",
        "  def is_empty(self):\n",
        "    if(len(self.data['word'])<1):\n",
        "      return True;\n",
        "    return False;\n",
        "\n",
        "\t# return nothing\n",
        "  def add_word(self, text):\n",
        "    if text not in self.data['word']:\n",
        "      self.data['word'].append(text)\n",
        "    else:\n",
        "      print('Already in list')\n",
        "\n",
        "\t# return nothing\n",
        "  def remove_word(self, text):\n",
        "    self.data['word'].remove(text)\t\n",
        "\n",
        "\t# return boolean\n",
        "  def is_bad(self, text):\n",
        "    return text in self.data['word']\n",
        "\n",
        "\t# return boolean\n",
        "  def has_swear(self, text):\n",
        "    if(self.is_empty()):\n",
        "      return text\n",
        "\n",
        "    text = text.split()\n",
        "    for i in range(len(text)):\n",
        "      if text[i] in self.data['word']:\n",
        "        return True\n",
        "\n",
        "    return False\n",
        "\n",
        "\t# return string\n",
        "  def tostring(self):\n",
        "    l = []\n",
        "    for word in self.data['word']:\n",
        "      l.append(word)\n",
        "    return l"
      ],
      "metadata": {
        "id": "IhzCjzh2Oqqe"
      },
      "execution_count": null,
      "outputs": []
    },
    {
      "cell_type": "code",
      "source": [
        "persianswear = PersianSwear()"
      ],
      "metadata": {
        "id": "UmogaR-tPDYT"
      },
      "execution_count": null,
      "outputs": []
    },
    {
      "cell_type": "code",
      "source": [
        "# print(persianswear.is_bad('خر'))\n",
        "# print(persianswear.is_bad('چرت و پرت'))\n",
        "# persianswear.add_word('چرت و پرت')\n",
        "# print(persianswear.is_bad('چرت و پرت'))\n",
        "# persianswear.add_word('چرت و پرت')\n",
        "# print(persianswear.has_swear('تو هیز هستی'))\n",
        "# print(persianswear.filter_words('تو هیز هستی'))"
      ],
      "metadata": {
        "id": "U3uS-MhTPF3j"
      },
      "execution_count": null,
      "outputs": []
    },
    {
      "cell_type": "code",
      "source": [
        "len(persianswear.tostring())"
      ],
      "metadata": {
        "colab": {
          "base_uri": "https://localhost:8080/"
        },
        "id": "3Ait6oulPP6q",
        "outputId": "906eec45-52b0-4036-f929-2d972de58c7b"
      },
      "execution_count": null,
      "outputs": [
        {
          "output_type": "execute_result",
          "data": {
            "text/plain": [
              "301"
            ]
          },
          "metadata": {},
          "execution_count": 35
        }
      ]
    },
    {
      "cell_type": "code",
      "source": [
        "persianswear.add_word('اسلیو')\n",
        "persianswear.add_word('ماهواره')\n",
        "persianswear.add_word('دوست دختر')\n",
        "persianswear.add_word('دوستدختر')\n",
        "persianswear.add_word('دوست پسر')\n",
        "persianswear.add_word('دوستپسر')\n",
        "persianswear.add_word('سقط جنین')\n",
        "persianswear.add_word('اسلحه')\n",
        "persianswear.add_word('جنسی')\n",
        "persianswear.add_word('همجنس باز')\n",
        "persianswear.add_word('لزبین')\n",
        "persianswear.add_word('گی')\n",
        "persianswear.add_word('بای سکشوال')\n",
        "persianswear.add_word('سکشوال')\n",
        "persianswear.add_word('صیغه')\n",
        "#persianswear.add_word('سانسور')\n",
        "persianswear.add_word('مشروب')\n",
        "persianswear.add_word('ساقی')\n",
        "persianswear.add_word('شراب')\n",
        "persianswear.add_word('ودکا')\n",
        "persianswear.add_word('ویسکی')\n",
        "persianswear.add_word('networking')\n",
        "persianswear.add_word('Networking')\n",
        "persianswear.add_word('نتوورکینگ')\n",
        "# persianswear.add_word('بزرگ کننده')\n",
        "# persianswear.add_word('کوچک کننده')\n",
        "persianswear.add_word('درمان سرطان')\n",
        "persianswear.add_word('شیرخشک')\n",
        "persianswear.add_word('شیر خشک')\n",
        "persianswear.add_word('DVB')\n",
        "persianswear.add_word('دیش')\n",
        "persianswear.add_word('VPN')\n",
        "persianswear.add_word('فیلتر شکن')\n",
        "persianswear.add_word('keylogger')\n",
        "persianswear.add_word('Keystroke')\n",
        "persianswear.add_word('فروش شماره')\n",
        "persianswear.add_word('ساخت شماره')\n",
        "persianswear.add_word('پنل پیامک انبوه')\n",
        "# persianswear.add_word('سگ')\n",
        "persianswear.add_word('برهنه')\n",
        "persianswear.add_word('رقص')\n",
        "persianswear.add_word('قاچاق')\n",
        "persianswear.add_word('استراق سمع')\n",
        "persianswear.add_word('دستگاه شنود')\n",
        "persianswear.add_word('دوربین مخفی')\n",
        "persianswear.add_word('سیم کارت شنود')\n",
        "persianswear.add_word('جاسوسی')\n",
        "persianswear.add_word('سلاح سرد')\n",
        "persianswear.add_word('سلاح گرم')\n",
        "persianswear.add_word('اسپری فلفل')\n",
        "persianswear.add_word('اشک آور')\n",
        "persianswear.add_word('ماریجوانا')\n",
        "persianswear.add_word('تریاک')\n",
        "persianswear.add_word('خشخاش')\n",
        "persianswear.add_word('قلیان')\n",
        "persianswear.add_word('مشروبات')\n",
        "persianswear.add_word('فالگیری')\n",
        "persianswear.add_word('دعا')\n",
        "persianswear.add_word('رمالی')\n",
        "persianswear.add_word('سرکتاب')\n",
        "persianswear.add_word('طلسم')\n",
        "persianswear.add_word('جادو')\n",
        "persianswear.add_word('اکلیل سرنج')\n",
        "persianswear.add_word('اکلیل نقره')\n",
        "persianswear.add_word('دوست یابی')\n",
        "persianswear.add_word('همسریابی')\n",
        "persianswear.add_word('دوستیابی')\n",
        "persianswear.add_word('همسر یابی')\n",
        "persianswear.add_word('گرین کارت')\n",
        "persianswear.add_word('فیش حج')\n",
        "persianswear.add_word('تور کربلا')\n",
        "persianswear.add_word('تور نجف')\n",
        "persianswear.add_word('فروش اعضای بدن')\n",
        "persianswear.add_word('خرید اعضای بدن')\n",
        "persianswear.add_word('فروش کلیه')\n",
        "persianswear.add_word('خرید کلیه')\n",
        "persianswear.add_word('شماره حساب')\n",
        "persianswear.add_word('وام')\n",
        "persianswear.add_word('تامین سرمایه')\n",
        "persianswear.add_word('ماینر')\n",
        "persianswear.add_word('ارز دیجیتال')\n",
        "persianswear.add_word('صدور چک')\n",
        "persianswear.add_word('عرضه چک')\n",
        "persianswear.add_word('صدور سفته')\n",
        "persianswear.add_word('عرضه سفته')\n",
        "persianswear.add_word('سهام عدالت')\n",
        "persianswear.add_word('حواله ارز')\n",
        "persianswear.add_word('خرید ارز')\n",
        "persianswear.add_word('فروش ارز')\n",
        "persianswear.add_word('خرید سکه')\n",
        "persianswear.add_word('فروش سکه')\n",
        "persianswear.add_word('انتقال سرباز')\n",
        "persianswear.add_word('پرسنل نظامی')\n",
        "persianswear.add_word('مدلینگ')\n",
        "persianswear.add_word('خرید پایان نامه')\n",
        "persianswear.add_word('فروش پایان نامه')\n",
        "persianswear.add_word('خرید مدرک')\n",
        "persianswear.add_word('فروش مدرک')\n",
        "persianswear.add_word('پرندگان شکاری')\n",
        "persianswear.add_word('پرندگان کمیاب')\n",
        "persianswear.add_word('پرندگان نایاب')\n",
        "persianswear.add_word('حیوانات شکاری')\n",
        "persianswear.add_word('حیوانات کمیاب')\n",
        "persianswear.add_word('حیوانات نایاب')\n",
        "persianswear.add_word('تاکسیدرمی')\n",
        "persianswear.add_word('تتو')\n",
        "persianswear.add_word('خراطین')\n",
        "persianswear.add_word('کرم خاکی')\n",
        "persianswear.add_word('قمار')\n",
        "persianswear.add_word('پاسور')\n",
        "persianswear.add_word('پوکر')\n",
        "persianswear.add_word('بلیط بخت آزمایی')\n",
        "persianswear.add_word('موبایل بدون جعبه')\n",
        "persianswear.add_word('پلاک گرجستان')\n",
        "persianswear.add_word('کارت بازرگانی')\n",
        "persianswear.add_word('گذر موقت')\n",
        "persianswear.add_word('رمز ارز')\n",
        "persianswear.add_word('clash of clans')\n",
        "persianswear.add_word('Pokemon')\n",
        "persianswear.add_word('قبر')\n",
        "persianswear.add_word('Network Marketing')\n",
        "persianswear.add_word('نتورکینگ')\n",
        "persianswear.add_word('نتوورک مارکتینگ')\n",
        "persianswear.add_word('نتورک مارکتینگ')\n",
        "persianswear.add_word('پولدار شدن')\n",
        "persianswear.add_word('مسابقه')\n",
        "persianswear.add_word('قرعه کشی')\n",
        "persianswear.add_word('RTL SDR')\n",
        "persianswear.add_word('دوربین یاب')"
      ],
      "metadata": {
        "colab": {
          "base_uri": "https://localhost:8080/"
        },
        "id": "VyBOE1kHTktc",
        "outputId": "efd83b0a-bbc0-4639-c79f-ed61226bd3e3"
      },
      "execution_count": null,
      "outputs": [
        {
          "output_type": "stream",
          "name": "stdout",
          "text": [
            "Already in list\n",
            "Already in list\n"
          ]
        }
      ]
    },
    {
      "cell_type": "code",
      "source": [
        "len(persianswear.tostring())"
      ],
      "metadata": {
        "id": "wIMsn2ZUZmnT",
        "colab": {
          "base_uri": "https://localhost:8080/"
        },
        "outputId": "fad4b19b-1a8f-4857-b01a-f53a681b9e05"
      },
      "execution_count": null,
      "outputs": [
        {
          "output_type": "execute_result",
          "data": {
            "text/plain": [
              "424"
            ]
          },
          "metadata": {},
          "execution_count": 37
        }
      ]
    },
    {
      "cell_type": "code",
      "source": [
        "words = persianswear.tostring()"
      ],
      "metadata": {
        "id": "03uGLV5zCPGq"
      },
      "execution_count": null,
      "outputs": []
    },
    {
      "cell_type": "code",
      "source": [
        "with open(\"/content/drive/My Drive/Colab Notebooks/Nikta/Filtering/custom.txt\", \"w\") as f:\n",
        "    for w in words:\n",
        "        f.write(str(w) +\"\\n\")"
      ],
      "metadata": {
        "id": "ME-BPWP0AmG7"
      },
      "execution_count": null,
      "outputs": []
    },
    {
      "cell_type": "code",
      "source": [
        ""
      ],
      "metadata": {
        "id": "XGZpYCjtCcd9"
      },
      "execution_count": null,
      "outputs": []
    }
  ]
}